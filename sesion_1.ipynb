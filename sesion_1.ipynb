{
 "metadata": {
  "name": "",
  "signature": "sha256:0f89ff8c06c55e44756afefa475b60445e3062091c8fa8773cee717615b6e464"
 },
 "nbformat": 3,
 "nbformat_minor": 0,
 "worksheets": [
  {
   "cells": [
    {
     "cell_type": "markdown",
     "metadata": {},
     "source": [
      "Configuraci\u00f3n inicial:"
     ]
    },
    {
     "cell_type": "code",
     "collapsed": false,
     "input": [
      "%matplotlib inline\n",
      "from osgeo import gdal\n",
      "\n",
      "import gdalnumeric\n",
      "import osgeo.gdalconst\n",
      "import numpy as np\n",
      "\n",
      "import matplotlib.pyplot as plt\n",
      "\n",
      "import glob as g\n",
      "import os\n",
      "\n",
      "gdal.UseExceptions()"
     ],
     "language": "python",
     "metadata": {},
     "outputs": []
    },
    {
     "cell_type": "markdown",
     "metadata": {},
     "source": [
      "Cargar una escena Landsat, unir todas las bandas en un arreglo y crear un nuevo raster que tenga todas las bandas en un s\u00f3lo archivo."
     ]
    },
    {
     "cell_type": "code",
     "collapsed": false,
     "input": [
      "landsat_tiffs = g.glob(\"../datos/landsat/aguascalientes/927371/2000/2000-01-22/l1t/*.TIF\")\n",
      "ls_data = np.zeros((7001, 8041, 6))\n",
      "\n",
      "for i, ltiff in enumerate(landsat_tiffs[0:8]):\n",
      "    #Para ver la imagen\n",
      "    #Leemos la banda a un arreglo\n",
      "    raster = gdal.Open(ltiff)\n",
      "    if i not in [5, 6]:\n",
      "        if i == 7:\n",
      "            i = 5\n",
      "        ls_data[:,:,i] = raster.GetRasterBand(1).ReadAsArray()\n",
      "\n",
      "print ls_data.shape"
     ],
     "language": "python",
     "metadata": {},
     "outputs": []
    },
    {
     "cell_type": "code",
     "collapsed": false,
     "input": [
      "plt.imshow(ls_data[2000:3000,1000:2000,(2, 1, 0)])"
     ],
     "language": "python",
     "metadata": {},
     "outputs": []
    },
    {
     "cell_type": "heading",
     "level": 1,
     "metadata": {},
     "source": [
      "Manipulaci\u00f3n de shapefiles con python usando fiona (http://toblerity.org/fiona/manual.html).\n",
      "\n"
     ]
    },
    {
     "cell_type": "markdown",
     "metadata": {},
     "source": [
      "Vamos a modificar el atributo que corresponde al nivel 1 de la clasificaci\u00f3n de coberturas de suelo, para luego generar un raster que podamos procesar con las im\u00e1genes landsat. \n",
      "\n",
      "Primero abrimos y leemos el shapefile fuente."
     ]
    },
    {
     "cell_type": "code",
     "collapsed": false,
     "input": [
      "import fiona\n",
      "shape_dir = \"../datos/interpretados/CHIPS_AGUASCALIENTES_LANDSAT_2000/\"\n",
      "with fiona.open(os.path.join(shape_dir, \"CHIPS_AGUASCALIENTES_LANDSAT_2000.shp\")) as src:\n",
      "    print src.schema\n",
      "    src_driver = src.driver\n",
      "    src_crs = src.crs\n",
      "    src_schema = src.schema\n",
      "    recs = list(src)"
     ],
     "language": "python",
     "metadata": {},
     "outputs": []
    },
    {
     "cell_type": "markdown",
     "metadata": {},
     "source": [
      "Luego creamos un nuevo shapefile y mapeamos los nombres en el atributo level_1 a valores num\u00e9ricos "
     ]
    },
    {
     "cell_type": "code",
     "collapsed": false,
     "input": [
      "with fiona.open(os.path.join(shape_dir, \"CHIPS_AGUASCALIENTES_LANDSAT_2000_L1.shp\"),\n",
      "                'w',\n",
      "                driver=src_driver,\n",
      "                crs=src_crs,\n",
      "                schema=src_schema) as c:\n",
      "    clases_l1 = {u'TIERRAS FORESTALES': 1, \n",
      "                 u'INDEFINIDO': 8, \n",
      "                 u'PRADERAS': 3, \n",
      "                 u'TIERRAS DE USO AGRICOLA': 4, \n",
      "                 u'AGUA': 5, \n",
      "                 u'HUMEDAL': 2, \n",
      "                 u'ASENTAMIENTOS': 6, \n",
      "                 u'OTROS': 7\n",
      "                 }\n",
      "    for rec in recs:\n",
      "        clase = rec[\"properties\"][\"level_1\"]\n",
      "        if clase not in clases_l1:\n",
      "            clases_l1[clase] = len(clases_l1.keys())\n",
      "        rec[\"properties\"][\"level_1\"] = clases_l1[clase]\n",
      "        c.write(rec)\n",
      "\n",
      "print clases_l1\n",
      "c.closed\n",
      "        "
     ],
     "language": "python",
     "metadata": {},
     "outputs": []
    },
    {
     "cell_type": "markdown",
     "metadata": {},
     "source": [
      "Para rasterizar el shapefile usamos ogr, que viene junto con gdal en la biblioteca osgeo.\n",
      "\n",
      "Primero abrimos el shapefile que creamos en el paso anterior."
     ]
    },
    {
     "cell_type": "code",
     "collapsed": false,
     "input": [
      "from osgeo import ogr\n",
      "interpretados = ogr.Open(\"../datos/interpretados/CHIPS_AGUASCALIENTES_LANDSAT_2000/CHIPS_AGUASCALIENTES_LANDSAT_2000_L1.shp\")\n",
      "print interpretados.GetLayerCount()\n",
      "\n",
      "# No confundir features de shapefiles con caracter\u00edsticas en machine learning\n",
      "layer = interpretados.GetLayer()\n",
      "featureCount = layer.GetFeatureCount()\n",
      "print featureCount\n",
      "\n",
      "lyrDefn = layer.GetLayerDefn()\n",
      "\n",
      "\n",
      "for i in range(lyrDefn.GetFieldCount()):\n",
      "    print lyrDefn.GetFieldDefn(i).GetName()"
     ],
     "language": "python",
     "metadata": {},
     "outputs": []
    },
    {
     "cell_type": "markdown",
     "metadata": {},
     "source": [
      "Tenemos que definir c\u00f3mo convertir de pol\u00edgonos a pixeles. Esto se hace definiendo el tamano que ocupa un pixel de la regi\u00f3n que define el shapefile"
     ]
    },
    {
     "cell_type": "code",
     "collapsed": false,
     "input": [
      "# Define pixel_size and NoData value of new raster\n",
      "pixel_size = 25\n",
      "NoData_value = 0\n",
      "\n",
      "# Open the data source and read in the extent\n",
      "source_srs = layer.GetSpatialRef()\n",
      "x_min, x_max, y_min, y_max = layer.GetExtent()\n",
      "\n",
      "print [x_min, x_max, y_min, y_max]\n",
      "\n",
      "# Create the destination data source\n",
      "x_res = int((x_max - x_min) / pixel_size)\n",
      "y_res = int((y_max - y_min) / pixel_size)\n",
      "print [x_res, y_res]\n",
      "\n",
      "target_ds = gdal.GetDriverByName('GTiff').Create('../datos/interpretados/CHIPS_AGUASCALIENTES_LANDSAT_2000/CHIPS_AGUASCALIENTES_LANDSAT_2000_L1.tiff', x_res, y_res, gdal.GDT_Byte)\n",
      "target_ds.SetGeoTransform((x_min, pixel_size, 0, y_max, 0, -pixel_size))\n",
      "band = target_ds.GetRasterBand(1)\n",
      "band.SetNoDataValue(NoData_value)"
     ],
     "language": "python",
     "metadata": {},
     "outputs": []
    },
    {
     "cell_type": "code",
     "collapsed": false,
     "input": [
      "gdal.RasterizeLayer(target_ds, [1], layer, options=[\"ATTRIBUTE=level_1\"])"
     ],
     "language": "python",
     "metadata": {},
     "outputs": []
    },
    {
     "cell_type": "code",
     "collapsed": false,
     "input": [
      "if source_srs:\n",
      "    # Make the target raster have the same projection as the source\n",
      "    target_ds.SetProjection(source_srs.ExportToWkt())\n",
      "    \n"
     ],
     "language": "python",
     "metadata": {},
     "outputs": []
    },
    {
     "cell_type": "code",
     "collapsed": false,
     "input": [
      "import seaborn as sns\n",
      "cpal = sns.choose_colorbrewer_palette(\"qualitative\", as_cmap=False)"
     ],
     "language": "python",
     "metadata": {},
     "outputs": []
    },
    {
     "cell_type": "code",
     "collapsed": false,
     "input": [
      "import matplotlib.cm as cm\n",
      "snspal = cm.Accent.from_list(\"Accent\", cpal)\n",
      "clases_im = band.ReadAsArray()\n",
      "print clases_im.shape\n",
      "clases_im[clases_im == 0] = 8\n",
      "plt.axis('off')\n",
      "plt.imshow(clases_im, cmap = snspal)\n",
      "print np.histogram(band.ReadAsArray())"
     ],
     "language": "python",
     "metadata": {},
     "outputs": []
    },
    {
     "cell_type": "code",
     "collapsed": false,
     "input": [
      "cnt = gdal.GetDriverCount()\n",
      "formatsList = []  # Empty List\n",
      "\n",
      "for i in range(cnt):\n",
      "    driver = gdal.GetDriver(i)\n",
      "    driverName = driver.ShortName\n",
      "    driverLong = driver.LongName\n",
      "    \n",
      "    if not driverName in formatsList:\n",
      "        formatsList.append((driverName, driverLong))\n",
      "formatsList.sort() # Sorting the messy list of ogr drivers\n",
      "\n",
      "for i in formatsList:\n",
      "    print i"
     ],
     "language": "python",
     "metadata": {},
     "outputs": []
    },
    {
     "cell_type": "code",
     "collapsed": false,
     "input": [],
     "language": "python",
     "metadata": {},
     "outputs": []
    }
   ],
   "metadata": {}
  }
 ]
}