{
 "metadata": {
  "name": "",
  "signature": "sha256:6c8682b8830f0d1f335b4389bfb4df626ae975da2384ff805e15759c9908b196"
 },
 "nbformat": 3,
 "nbformat_minor": 0,
 "worksheets": [
  {
   "cells": [
    {
     "cell_type": "heading",
     "level": 1,
     "metadata": {},
     "source": [
      "Clasificaci\u00f3n"
     ]
    },
    {
     "cell_type": "heading",
     "level": 2,
     "metadata": {},
     "source": [
      "Por pixel"
     ]
    },
    {
     "cell_type": "markdown",
     "metadata": {},
     "source": [
      "En la clasificaci\u00f3n por pixel, cada pixel en la im\u00e1gen es un elemento aislado y esperamos clasificarlos a partir de la informaci\u00f3n que nos da cada uno independientemente. Esta t\u00e9cnica es m\u00e1s usada cuando se tiene suficiente informaci\u00f3n temporal, es decir, se por pixel pero en un periodo de tiempo, con lo cual se pueden obtener estad\u00edsticas como m\u00e1ximos, valores medios de las bandas y otros \u00edndices que se obtienen a partir de las bandas (principalmente NDVI y NWDI). Sin embargo, si no se tiene buena cobertura temporal entonces este enfoque es limitado."
     ]
    },
    {
     "cell_type": "heading",
     "level": 2,
     "metadata": {},
     "source": [
      "Por objeto o segmento"
     ]
    },
    {
     "cell_type": "markdown",
     "metadata": {},
     "source": [
      "En este enfoque primero se hace una segmentaci\u00f3n de la im\u00e1gen y se busca clasificar los segmentos (tambi\u00e9n referidos como objetos). Esta es la t\u00e9cnica que vamos a usar en la tarea. Para hacer la segmentaci\u00f3n voy a usar SLIC (http://ivrg.epfl.ch/research/superpixels) con la implementaci\u00f3n de scikit-image (http://scikit-image.org/, http://scikit-image.org/docs/0.10.x/api/skimage.segmentation.html#slic)."
     ]
    },
    {
     "cell_type": "heading",
     "level": 1,
     "metadata": {},
     "source": [
      "Segmentaci\u00f3n de im\u00e1genes"
     ]
    },
    {
     "cell_type": "markdown",
     "metadata": {},
     "source": [
      "Para nuestro ejemplo, vamos a usar la implementaci\u00f3n de SLIC en scikit-image. Primero veremos un ejemplo de c\u00f3mo usar SLIC con una imagen Landsat (originalmente las im\u00e1genes de Landsat vienen separadas en archivos, donde cada uno pertence a una de las bandas del sensor, en este ejemplo usamos una imagen que fue preparada previamente y que ya tiene todas las bandas en el mismo raster)."
     ]
    },
    {
     "cell_type": "code",
     "collapsed": false,
     "input": [
      "%matplotlib inline\n",
      "from skimage.segmentation import slic\n",
      "from osgeo import gdal\n",
      "import numpy as np\n",
      "import matplotlib.cm as cm\n",
      "import matplotlib.pyplot as plt\n",
      "\n",
      "from skimage import io\n",
      "from glob import glob as g\n",
      "\n"
     ],
     "language": "python",
     "metadata": {},
     "outputs": []
    },
    {
     "cell_type": "code",
     "collapsed": false,
     "input": [
      "landsat_files = \"../datos/ejercicio_final/rasters/limpios/ls_edo_mex_%i.tif\"\n",
      "\n",
      "raster = gdal.Open(landsat_files % 0)\n",
      "num_bands = raster.RasterCount\n",
      "num_rows = raster.RasterYSize\n",
      "num_cols = raster.RasterXSize\n",
      "#Necesitamos extraer los datos y ponerlos en un arreglo de dimensiones (ancho, largo, 3) para la funci\u00f3n slic\n",
      "im_data = np.zeros((num_rows, num_cols, num_bands), np.float)\n",
      "\n",
      "for i in range(num_bands):\n",
      "    im_data[:,:,i] = raster.GetRasterBand(i+1).ReadAsArray()"
     ],
     "language": "python",
     "metadata": {},
     "outputs": []
    },
    {
     "cell_type": "code",
     "collapsed": false,
     "input": [
      "slic_data = im_data[2000:2250, 2000:2250]\n",
      "segments = slic(slic_data, convert2lab  = False, multichannel = True, compactness = 15, sigma = 0.4, n_segments = 200)\n",
      "print segments.max()"
     ],
     "language": "python",
     "metadata": {},
     "outputs": []
    },
    {
     "cell_type": "code",
     "collapsed": false,
     "input": [
      "plt.figure(figsize = (15,15))\n",
      "io.imshow(segments, cmap = cm.Set3)"
     ],
     "language": "python",
     "metadata": {},
     "outputs": []
    },
    {
     "cell_type": "code",
     "collapsed": false,
     "input": [
      "from skimage import io\n",
      "from skimage.segmentation import mark_boundaries"
     ],
     "language": "python",
     "metadata": {},
     "outputs": []
    },
    {
     "cell_type": "markdown",
     "metadata": {},
     "source": [
      "Normalizamos para visualizar (algo as\u00ed hace QGIS en la opci\u00f3n de visualizaci\u00f3n que usa valor medio y desviaci\u00f3n est\u00e1ndar)"
     ]
    },
    {
     "cell_type": "code",
     "collapsed": false,
     "input": [
      "bounds_color = (1, 1, 1)\n",
      "means = slic_data[:,:,(3, 1, 0)].reshape((-1,3)).mean(0)\n",
      "stdv = slic_data[:,:,(3, 1, 0)].reshape((-1,3)).std(0)\n",
      "rgb_data = (slic_data[:,:,(3, 1, 0)] - means) / (2*stdv)\n",
      "rgb_data[rgb_data > 1] = 1\n",
      "rgb_data[rgb_data < -1] = -1\n",
      "rgb_data -= rgb_data.reshape((-1,3)).min(0)\n",
      "rgb_data /= rgb_data.reshape((-1,3)).max(0) \n",
      "plt.figure(figsize = (15, 15))\n",
      "\n",
      "#mark_boundaries marca los bordes de los segmentos\n",
      "io.imshow(mark_boundaries(rgb_data, segments, bounds_color, None))"
     ],
     "language": "python",
     "metadata": {},
     "outputs": []
    },
    {
     "cell_type": "code",
     "collapsed": false,
     "input": [
      "from sklearn.decomposition import PCA, FastICA"
     ],
     "language": "python",
     "metadata": {},
     "outputs": []
    },
    {
     "cell_type": "code",
     "collapsed": false,
     "input": [
      "pca = PCA()\n",
      "pca.fit(im_data.reshape(-1, num_bands))"
     ],
     "language": "python",
     "metadata": {},
     "outputs": []
    },
    {
     "cell_type": "code",
     "collapsed": false,
     "input": [
      "pca_data = pca.transform(slic_data.reshape(-1, num_bands))"
     ],
     "language": "python",
     "metadata": {},
     "outputs": []
    },
    {
     "cell_type": "code",
     "collapsed": false,
     "input": [
      "print pca_data.max()\n",
      "print pca_data.min()\n"
     ],
     "language": "python",
     "metadata": {},
     "outputs": []
    },
    {
     "cell_type": "code",
     "collapsed": false,
     "input": [
      "pca_im = pca_data[:, :3].reshape(250, 250, -1)\n",
      "segments = slic(pca_im, convert2lab  = False, multichannel = True, compactness = 15, sigma = 0.4, n_segments = 200)"
     ],
     "language": "python",
     "metadata": {},
     "outputs": []
    },
    {
     "cell_type": "code",
     "collapsed": false,
     "input": [
      "segments.max()"
     ],
     "language": "python",
     "metadata": {},
     "outputs": []
    },
    {
     "cell_type": "code",
     "collapsed": false,
     "input": [
      "plt.figure(figsize = (15, 15))\n",
      "io.imshow(segments, cmap = cm.Set3)"
     ],
     "language": "python",
     "metadata": {},
     "outputs": []
    },
    {
     "cell_type": "code",
     "collapsed": false,
     "input": [
      "plt.figure(figsize = (15, 15))\n",
      "io.imshow(mark_boundaries(rgb_data, segments, bounds_color, None))"
     ],
     "language": "python",
     "metadata": {},
     "outputs": []
    },
    {
     "cell_type": "markdown",
     "metadata": {},
     "source": [
      "El ejemplo anterior, es s\u00f3lo para ver c\u00f3mo funciona la segmentaci\u00f3n, a continuaci\u00f3n procesamos todas las im\u00e1genes, las cuales fueron preparadas como se describe en el Ap\u00e9ndice."
     ]
    },
    {
     "cell_type": "code",
     "collapsed": false,
     "input": [
      "#Ahora generamos las segmentaciones\n",
      "num_total_segs = 0\n",
      "recortes = glob(con_etiquetas_dir + \"/*.tif\")\n",
      "print con_etiquetas_dir\n",
      "print len(recortes)\n",
      "\n",
      "for recorte in recortes:\n",
      "    data_src = gdal.Open(recorte)\n",
      "    \n",
      "    xsize = data_src.RasterXSize\n",
      "    ysize = data_src.RasterYSize\n",
      "    num_bands = data_src.RasterCount\n",
      "    \n",
      "    data = np.zeros((ysize, xsize, num_bands), np.float)  \n",
      "    for i in range(num_bands):\n",
      "        data[:,:,i] = data_src.GetRasterBand(i+1).ReadAsArray()\n",
      "    \n",
      "    segments = slic(data, convert2lab  = False, multichannel = True, compactness = 15, sigma = 0.4, n_segments = 600)\n",
      "    segs_src = data_src.GetDriver().Create(recorte.replace(\".tif\", \".segs\"), xsize, ysize, 1, gdal.GDT_Int16)\n",
      "    segs_src.SetProjection(data_src.GetProjection())\n",
      "    segs_src.SetGeoTransform(data_src.GetGeoTransform())\n",
      "    segs_src.GetRasterBand(1).WriteArray(segments)\n",
      "    segs_src = None\n",
      "    data_src = None\n",
      "    \n",
      "    num_total_segs += len(np.unique(segments))\n",
      "\n",
      "print \"Promedio segmentos por imagen: %f\" % (num_total_segs / len(recortes))\n",
      "    \n",
      "\n",
      "    \n",
      "    "
     ],
     "language": "python",
     "metadata": {},
     "outputs": []
    },
    {
     "cell_type": "heading",
     "level": 1,
     "metadata": {},
     "source": [
      "Validaci\u00f3n"
     ]
    },
    {
     "cell_type": "markdown",
     "metadata": {},
     "source": [
      "Para validar "
     ]
    },
    {
     "cell_type": "heading",
     "level": 1,
     "metadata": {},
     "source": [
      "Referencias"
     ]
    },
    {
     "cell_type": "markdown",
     "metadata": {},
     "source": [
      "http://www.ijsrp.org/research-paper-0513/ijsrp-p1712.pdf"
     ]
    },
    {
     "cell_type": "heading",
     "level": 1,
     "metadata": {},
     "source": [
      "Ap\u00e9ndice: Lectura de im\u00e1genes landsat y generaci\u00f3n de etiquetas en raster a partir del shapefile"
     ]
    },
    {
     "cell_type": "markdown",
     "metadata": {},
     "source": [
      "Vamos a trabajar en el Estado de M\u00e9xico."
     ]
    },
    {
     "cell_type": "code",
     "collapsed": false,
     "input": [
      "import glob as g\n",
      "from osgeo import gdal\n",
      "\n",
      "def unir_bandas_ls(src_dir, dst_name):\n",
      "    band_files = g.glob(src_dir + \"*_B*.TIF\")[:-1]\n",
      "    # no vamos a usar la banda 8 (pancrom\u00e1tico) porque tiene una resoluci\u00f3n m\u00e1s alta\n",
      "    print '\\n'.join(band_files)\n",
      "\n",
      "    #inciar nuevo raster con los datos de la primer banda de la imagen landsat que queremos unir\n",
      "    raster_band = gdal.Open(band_files[0])\n",
      "    driver = raster_band.GetDriver()\n",
      "\n",
      "    dst_raster = driver.Create(dst_name, raster_band.RasterXSize, raster_band.RasterYSize, 8, gdal.GDT_Byte)\n",
      "\n",
      "    dst_raster.SetProjection(raster_band.GetProjection())\n",
      "    dst_raster.SetGeoTransform(raster_band.GetGeoTransform())\n",
      "\n",
      "    for i, f in enumerate(band_files):\n",
      "        raster_band = gdal.Open(f)\n",
      "        band_data = raster_band.GetRasterBand(1).ReadAsArray()\n",
      "\n",
      "        dst_raster.GetRasterBand(i+1).WriteArray(band_data)\n",
      "    dst_raster = None"
     ],
     "language": "python",
     "metadata": {},
     "outputs": []
    },
    {
     "cell_type": "code",
     "collapsed": false,
     "input": [
      "def gdal_unir_bandas_ls(src_dir, dst_name):\n",
      "    band_files = g.glob(src_dir + \"*_B*.TIF\")[:-1]\n",
      "    # no vamos a usar la banda 8 (pancrom\u00e1tico) porque tiene una resoluci\u00f3n m\u00e1s alta\n",
      "\n",
      "    !gdalbuildvrt -separate {dst_name.replace('tif', 'vrt')} {' '.join(band_files)}\n",
      "    !gdal_translate {dst_name.replace('tif', 'vrt')} $dst_name\n",
      "    !rm {dst_name.replace('tif', 'vrt')}"
     ],
     "language": "python",
     "metadata": {},
     "outputs": []
    },
    {
     "cell_type": "code",
     "collapsed": false,
     "input": [
      "src_dirs = [\"../datos/landsat/edo_mexico/934565/2000/2000-01-24/l1t/\",\n",
      "            \"../datos/landsat/edo_mexico/934566/2000/2000-01-24/l1t/\",\n",
      "            \"../datos/landsat/edo_mexico/967057/2000/2000-01-01/l1t/\",\n",
      "            \"../datos/landsat/edo_mexico/967058/2000/2000-02-02/l1t/\"]\n",
      "\n",
      "dst_name = \"../datos/ejercicio_final/rasters/ls_edo_mex_%i.tif\"\n",
      "\n",
      "for i, src_dir in enumerate(src_dirs):\n",
      "    print \"Create: \" + dst_name % i\n",
      "    gdal_unir_bandas_ls(src_dir, dst_name % i)"
     ],
     "language": "python",
     "metadata": {},
     "outputs": []
    },
    {
     "cell_type": "code",
     "collapsed": false,
     "input": [
      "# Recortar imagenes para remover las orillas que no sirven. Para esto usamos el mosaico del mundo http://landsat.usgs.gov/documents/wrs2_descending.zip\n",
      "cut_shp = \"../datos/ejercicio_final/tiles_shapes/ls_edo_mex_%i.shp\" #estos son shapes que corresponden a cada una de las zonas landsat, fueron extra\u00eddos manualmente \n",
      "src_tif = \"../datos/ejercicio_final/rasters/ls_edo_mex_%i.tif\"\n",
      "dst_tif = \"../datos/ejercicio_final/rasters/limpios/ls_edo_mex_%i.tif\"\n",
      "\n",
      "for i in range(4):\n",
      "    print \"Warp %i\" % i \n",
      "    !gdalwarp -dstnodata 0 -q -cutline {cut_shp % i} -crop_to_cutline -of GTiff {src_tif % i} {dst_tif % i}"
     ],
     "language": "python",
     "metadata": {},
     "outputs": []
    },
    {
     "cell_type": "heading",
     "level": 2,
     "metadata": {},
     "source": [
      "Pegar rasters en mosaico"
     ]
    },
    {
     "cell_type": "code",
     "collapsed": false,
     "input": [
      "src_file = \"../datos/ejercicio_final/ls_edo_mex_%i.tif\"\n",
      "!gdal_merge.py -n 0 -a_nodata 0 -of GTiff -o ../datos/ejercicio_final/prueba_merge.tif {src_file % 0} {src_file % 1} {src_file % 2} {src_file % 3}"
     ],
     "language": "python",
     "metadata": {},
     "outputs": []
    },
    {
     "cell_type": "heading",
     "level": 2,
     "metadata": {},
     "source": [
      "Escribir etiquetas y ids de objetos interpretados manualmente en rasters"
     ]
    },
    {
     "cell_type": "markdown",
     "metadata": {},
     "source": [
      "Generamos un shape con n\u00fameros en vez de caracteres para las clases, para poder escribir los valores en un raster"
     ]
    },
    {
     "cell_type": "code",
     "collapsed": false,
     "input": [
      "import fiona\n",
      "orig_shape_file = \"../datos/ejercicio_final/labels/edo_mex_labels.shp\"\n",
      "int_shape_file = \"../datos/ejercicio_final/labels/edo_mex_int_labels.shp\"\n",
      "src_tif = \"../datos/ejercicio_final/rasters/limpios/ls_edo_mex_%i.tif\""
     ],
     "language": "python",
     "metadata": {},
     "outputs": []
    },
    {
     "cell_type": "code",
     "collapsed": false,
     "input": [
      "with fiona.open(orig_shape_file) as src:\n",
      "    src_driver = src.driver\n",
      "    src_crs = src.crs\n",
      "    src_schema = src.schema\n",
      "    recs = list(src)\n",
      "\n",
      "print \"El esquema actual:  \" + str(src_schema['properties'])\n",
      "src_schema['properties']['level_1'] = \"int:8\"\n",
      "print \"El nuevo esquema:  \" + str(src_schema['properties'])\n",
      "\n",
      "#Queremos que el nivel 1 sea num\u00e9rico en vez de una cadena de caracteres\n",
      "with fiona.open(int_shape_file,\n",
      "                'w',\n",
      "                driver=src_driver,\n",
      "                crs=src_crs,\n",
      "                schema=src_schema) as c:\n",
      "    clases_l1 = {u'TIERRAS FORESTALES': 1, \n",
      "                 u'INDEFINIDO': 8, \n",
      "                 u'PRADERAS': 3, \n",
      "                 u'TIERRAS DE USO AGRICOLA': 4, \n",
      "                 u'AGUA': 5, \n",
      "                 u'HUMEDAL': 2, \n",
      "                 u'ASENTAMIENTOS': 6, \n",
      "                 u'OTROS': 7\n",
      "                 }\n",
      "    for rec in recs:\n",
      "        clase = rec[\"properties\"][\"level_1\"]\n",
      "        if clase not in clases_l1:\n",
      "            clases_l1[clase] = len(clases_l1.keys())\n",
      "        rec[\"properties\"][\"level_1\"] = clases_l1[clase]\n",
      "        c.write(rec)\n",
      "\n",
      "print clases_l1\n",
      "c.closed"
     ],
     "language": "python",
     "metadata": {},
     "outputs": []
    },
    {
     "cell_type": "markdown",
     "metadata": {},
     "source": [
      "Ahora vamos a escribir las etiquetas y los ids de segmentos de la clasificaci\u00f3n a archivos raster. Para esto:\n",
      "1. Generamos primero un raster sin datos que tenga las dimensiones y la proyecci\u00f3n que corresponde a cada zona. \n",
      "2. Rasterizamos el shape de etiquetas escribiendo al raster que recien creamos. De este modo escribimos s\u00f3lo los datos que corresponden a la zona que abarca un tile. En este caso hay cuatro tiles que cubren alguna parte del Estado de M\u00e9xico."
     ]
    },
    {
     "cell_type": "code",
     "collapsed": false,
     "input": [
      "format = \"GTiff\"\n",
      "driver = gdal.GetDriverByName( format )\n",
      "oids_tif = \"../datos/ejercicio_final/rasters/limpios/ls_edo_mex_%i.oids\"\n",
      "labels_tif = \"../datos/ejercicio_final/rasters/limpios/ls_edo_mex_%i.gt\"\n",
      "labels_src = int_shape_file\n",
      "\n",
      "for i in range(4):\n",
      "    print src_tif % i\n",
      "    ref_rast = gdal.Open(src_tif % i) #raster de referencia para crear el raster destino\n",
      "    blank_rast = driver.Create(oids_tif % i, ref_rast.RasterXSize, ref_rast.RasterYSize, 1, gdal.GDT_Int16)\n",
      "    blank_rast.SetProjection(ref_rast.GetProjection())\n",
      "    blank_rast.SetGeoTransform(ref_rast.GetGeoTransform())\n",
      "    blank_rast = None\n",
      "\n",
      "for i in range(4):\n",
      "    !gdal_rasterize -a OBJECTID -l edo_mex_int_labels $labels_src {oids_tif % i}\n",
      "    "
     ],
     "language": "python",
     "metadata": {},
     "outputs": []
    },
    {
     "cell_type": "markdown",
     "metadata": {},
     "source": [
      "Ahora creamos rasters con las etiquetas de clase. "
     ]
    },
    {
     "cell_type": "code",
     "collapsed": false,
     "input": [
      "for i in range(4):\n",
      "    ref_rast = gdal.Open(src_tif % i)\n",
      "    blank_rast = driver.Create(labels_tif % i, ref_rast.RasterXSize, ref_rast.RasterYSize, 1, gdal.GDT_Byte)\n",
      "    blank_rast.SetProjection(ref_rast.GetProjection())\n",
      "    blank_rast.SetGeoTransform(ref_rast.GetGeoTransform())\n",
      "    blank_rast = None\n",
      "\n",
      "for i in range(4):\n",
      "    !gdal_rasterize -a level_1 -l edo_mex_int_labels $labels_src {labels_tif % i}"
     ],
     "language": "python",
     "metadata": {},
     "outputs": []
    },
    {
     "cell_type": "markdown",
     "metadata": {},
     "source": [
      "Ahora subdividimos las im\u00e1genes en im\u00e1genes de 500x500 pixeles"
     ]
    },
    {
     "cell_type": "code",
     "collapsed": false,
     "input": [
      "target_dir = \"../datos/ejercicio_final/recortes/500x500/\"\n",
      "src_file = \"../datos/ejercicio_final/rasters/limpios/ls_edo_mex_%i.%s\"\n",
      "tile_size = 500\n",
      "\n",
      "for i in range(4):\n",
      "    for ext in ('tif', 'gt', 'oids'):\n",
      "        if not os.path.exists(target_dir + ext):\n",
      "            os.mkdir(target_dir + ext)\n",
      "        !gdal_retile.py -targetDir {target_dir + ext} -ps $tile_size $tile_size {src_file % (i, ext)}\n",
      "        out_files = g.glob(target_dir + ext + \"/*.tif\")\n",
      "        \n",
      "        for filename in out_files:\n",
      "            newname = filename.replace(ext + \"/\", \"\").replace(\".tif\", \".\" + ext)\n",
      "            os.rename(filename, newname)\n",
      "\n",
      "for ext in ('tif', 'gt', 'oids'):\n",
      "    os.rmdir(target_dir + ext)\n",
      "        "
     ],
     "language": "python",
     "metadata": {},
     "outputs": []
    },
    {
     "cell_type": "markdown",
     "metadata": {},
     "source": [
      "Depuramos el conjunto de im\u00e1genes para confirmar que no contengan pixeles sin datos (ceros) y que todas tengan al menos 100 pixeles anotados. "
     ]
    },
    {
     "cell_type": "code",
     "collapsed": false,
     "input": [
      "import os\n",
      "\n",
      "recortes = g.glob(\"../datos/ejercicio_final/recortes/500x500/*.tif\")\n",
      "num_nodata = 0\n",
      "sin_etiqueta = 0\n",
      "\n",
      "for recorte in recortes:\n",
      "    r = gdal.Open(recorte)\n",
      "    l = gdal.Open(recorte.replace(\".tif\",\".gt\"))\n",
      "    ldata = l.GetRasterBand(1).ReadAsArray()\n",
      "\n",
      "    rdir = os.path.dirname(recorte)\n",
      "    num_bands = r.RasterCount\n",
      "    nrows = r.RasterYSize\n",
      "    ncols = r.RasterXSize\n",
      "    nodata_percent = .8\n",
      "    has_data = True\n",
      "    labels = False\n",
      "    \n",
      "    for i in range(num_bands):\n",
      "        bdata = r.GetRasterBand(i+1).ReadAsArray()\n",
      "        \n",
      "        if (bdata == 0).sum() >= 1:\n",
      "            has_data = False\n",
      "            break\n",
      "\n",
      "    if has_data:\n",
      "        if ldata.sum() > 100:\n",
      "            labels = True\n",
      "        else:\n",
      "            sin_etiqueta += 1\n",
      "    else:\n",
      "        num_nodata += 1\n",
      "        \n",
      "#        sin_etiquetas_dir = os.path.join(rdir, \"sin_etiquetas\")\n",
      "#        if not os.path.exists(sin_etiquetas_dir):\n",
      "#            !mkdir $sin_etiquetas_dir\n",
      "#        !cp $recorte {os.path.join(sin_etiquetas_dir, os.path.basename(recorte))}\n",
      "    \n",
      "    if has_data and labels:\n",
      "        con_etiquetas_dir = os.path.join(rdir, \"con_etiquetas_100\")\n",
      "        if not os.path.exists(con_etiquetas_dir):\n",
      "            os.mkdir(con_etiquetas_dir)\n",
      "            \n",
      "        !cp $recorte {os.path.join(con_etiquetas_dir, os.path.basename(recorte))}\n",
      "        labels_file = recorte.replace(\".tif\",\".gt\")\n",
      "        !cp $labels_file {os.path.join(con_etiquetas_dir, os.path.basename(labels_file))}\n",
      "        oids_file = recorte.replace(\".tif\",\".oids\")\n",
      "        !cp $oids_file {os.path.join(con_etiquetas_dir, os.path.basename(oids_file))}\n",
      "           \n",
      "print \"%i archivos sin datos\" % num_nodata\n",
      "print \"Sin etiquetas %i\" % sin_etiqueta"
     ],
     "language": "python",
     "metadata": {},
     "outputs": []
    },
    {
     "cell_type": "markdown",
     "metadata": {},
     "source": [
      "Checamos el set de datos."
     ]
    },
    {
     "cell_type": "markdown",
     "metadata": {},
     "source": [
      "Validaci\u00f3n"
     ]
    },
    {
     "cell_type": "code",
     "collapsed": false,
     "input": [
      "def kappa(conf_mat):\n",
      "    pr_e = (conf_mat.sum(1)*conf_mat.sum(0)).sum()/float(conf_mat.sum())**2\n",
      "    pr_a = conf_mat.diagonal().sum()/float(conf_mat.sum())\n",
      "    return (pr_a - pr_e) / (1 - pr_e)\n",
      "\n",
      "def accuracy(conf_mat):\n",
      "    return conf_mat.diagonal().sum() / conf_mat.astype(float).sum()\n",
      "\n",
      "def precision(conf_mat):\n",
      "    return conf_mat.diagonal() / conf_mat.astype(float).sum(1)\n",
      "\n",
      "def cobertura(conf_mat):\n",
      "    return conf_mat.diagonal() / conf_mat.astype(float).sum(0)\n",
      "\n",
      "def f1(conf_mat):\n",
      "    return (precision(conf_mat)*cobertura(conf_mat)) / (precision(conf_mat) + cobertura(conf_mat))"
     ],
     "language": "python",
     "metadata": {},
     "outputs": []
    }
   ],
   "metadata": {}
  }
 ]
}